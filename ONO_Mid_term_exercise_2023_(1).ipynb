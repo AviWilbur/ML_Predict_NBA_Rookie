{
  "cells": [
    {
      "cell_type": "markdown",
      "metadata": {
        "id": "view-in-github",
        "colab_type": "text"
      },
      "source": [
        "<a href=\"https://colab.research.google.com/github/AviWilbur/ML_Predict_NBA_Rookie/blob/main/ONO_Mid_term_exercise_2023_(1).ipynb\" target=\"_parent\"><img src=\"https://colab.research.google.com/assets/colab-badge.svg\" alt=\"Open In Colab\"/></a>"
      ]
    },
    {
      "cell_type": "markdown",
      "metadata": {
        "id": "WxEMakEiBTl-"
      },
      "source": [
        "#Mid-term exercise - Avi Wilbur\n",
        "predicting whether rookie NBA players will remain in the NBA for more than five years based on various features. The dataset is preprocessed using techniques such as handling missing values, scaling features, and balancing the classes to ensure accurate predictions. Machine learning models, including Random Forest and Gradient Boosting classifiers, are employed to train and evaluate the predictive performance using metrics like accuracy, precision, and recall. The project also involves data visualization to understand the distribution of the target variable.\n",
        "\n"
      ]
    },
    {
      "cell_type": "markdown",
      "metadata": {
        "id": "63MGm65eCjRr"
      },
      "source": [
        "#1. Load your libraries here:"
      ]
    },
    {
      "cell_type": "code",
      "execution_count": null,
      "metadata": {
        "id": "Ug3u-V4-BWTi"
      },
      "outputs": [],
      "source": [
        "\n",
        "\n",
        "import pandas as pd\n",
        "import matplotlib.pyplot as plt\n",
        "\n",
        "\n",
        "from imblearn.over_sampling import RandomOverSampler\n",
        "from imblearn.under_sampling import RandomUnderSampler\n",
        "\n",
        "from sklearn.impute import SimpleImputer\n",
        "from sklearn.impute import KNNImputer\n",
        "\n",
        "from sklearn.preprocessing import StandardScaler, MinMaxScaler\n",
        "\n",
        "from sklearn.model_selection import train_test_split, GridSearchCV\n",
        "\n",
        "from sklearn.ensemble import RandomForestClassifier, GradientBoostingClassifier\n",
        "from sklearn.neighbors import KNeighborsClassifier\n",
        "\n",
        "from sklearn.pipeline import Pipeline\n",
        "\n",
        "from sklearn.metrics import accuracy_score, recall_score, precision_score, f1_score\n",
        "\n",
        "from sklearn.metrics import classification_report\n",
        "\n"
      ]
    },
    {
      "cell_type": "markdown",
      "metadata": {
        "id": "zoS_ee5wDJDE"
      },
      "source": [
        "#Upload your data file:"
      ]
    },
    {
      "cell_type": "code",
      "execution_count": null,
      "metadata": {
        "colab": {
          "base_uri": "https://localhost:8080/",
          "height": 73
        },
        "id": "_g0XLs7MDKQE",
        "outputId": "a9fcfa9a-060f-425a-eb50-303f93757207"
      },
      "outputs": [
        {
          "output_type": "display_data",
          "data": {
            "text/plain": [
              "<IPython.core.display.HTML object>"
            ],
            "text/html": [
              "\n",
              "     <input type=\"file\" id=\"files-eaed0a7d-2cf3-46db-b2a6-0842851ee2fa\" name=\"files[]\" multiple disabled\n",
              "        style=\"border:none\" />\n",
              "     <output id=\"result-eaed0a7d-2cf3-46db-b2a6-0842851ee2fa\">\n",
              "      Upload widget is only available when the cell has been executed in the\n",
              "      current browser session. Please rerun this cell to enable.\n",
              "      </output>\n",
              "      <script>// Copyright 2017 Google LLC\n",
              "//\n",
              "// Licensed under the Apache License, Version 2.0 (the \"License\");\n",
              "// you may not use this file except in compliance with the License.\n",
              "// You may obtain a copy of the License at\n",
              "//\n",
              "//      http://www.apache.org/licenses/LICENSE-2.0\n",
              "//\n",
              "// Unless required by applicable law or agreed to in writing, software\n",
              "// distributed under the License is distributed on an \"AS IS\" BASIS,\n",
              "// WITHOUT WARRANTIES OR CONDITIONS OF ANY KIND, either express or implied.\n",
              "// See the License for the specific language governing permissions and\n",
              "// limitations under the License.\n",
              "\n",
              "/**\n",
              " * @fileoverview Helpers for google.colab Python module.\n",
              " */\n",
              "(function(scope) {\n",
              "function span(text, styleAttributes = {}) {\n",
              "  const element = document.createElement('span');\n",
              "  element.textContent = text;\n",
              "  for (const key of Object.keys(styleAttributes)) {\n",
              "    element.style[key] = styleAttributes[key];\n",
              "  }\n",
              "  return element;\n",
              "}\n",
              "\n",
              "// Max number of bytes which will be uploaded at a time.\n",
              "const MAX_PAYLOAD_SIZE = 100 * 1024;\n",
              "\n",
              "function _uploadFiles(inputId, outputId) {\n",
              "  const steps = uploadFilesStep(inputId, outputId);\n",
              "  const outputElement = document.getElementById(outputId);\n",
              "  // Cache steps on the outputElement to make it available for the next call\n",
              "  // to uploadFilesContinue from Python.\n",
              "  outputElement.steps = steps;\n",
              "\n",
              "  return _uploadFilesContinue(outputId);\n",
              "}\n",
              "\n",
              "// This is roughly an async generator (not supported in the browser yet),\n",
              "// where there are multiple asynchronous steps and the Python side is going\n",
              "// to poll for completion of each step.\n",
              "// This uses a Promise to block the python side on completion of each step,\n",
              "// then passes the result of the previous step as the input to the next step.\n",
              "function _uploadFilesContinue(outputId) {\n",
              "  const outputElement = document.getElementById(outputId);\n",
              "  const steps = outputElement.steps;\n",
              "\n",
              "  const next = steps.next(outputElement.lastPromiseValue);\n",
              "  return Promise.resolve(next.value.promise).then((value) => {\n",
              "    // Cache the last promise value to make it available to the next\n",
              "    // step of the generator.\n",
              "    outputElement.lastPromiseValue = value;\n",
              "    return next.value.response;\n",
              "  });\n",
              "}\n",
              "\n",
              "/**\n",
              " * Generator function which is called between each async step of the upload\n",
              " * process.\n",
              " * @param {string} inputId Element ID of the input file picker element.\n",
              " * @param {string} outputId Element ID of the output display.\n",
              " * @return {!Iterable<!Object>} Iterable of next steps.\n",
              " */\n",
              "function* uploadFilesStep(inputId, outputId) {\n",
              "  const inputElement = document.getElementById(inputId);\n",
              "  inputElement.disabled = false;\n",
              "\n",
              "  const outputElement = document.getElementById(outputId);\n",
              "  outputElement.innerHTML = '';\n",
              "\n",
              "  const pickedPromise = new Promise((resolve) => {\n",
              "    inputElement.addEventListener('change', (e) => {\n",
              "      resolve(e.target.files);\n",
              "    });\n",
              "  });\n",
              "\n",
              "  const cancel = document.createElement('button');\n",
              "  inputElement.parentElement.appendChild(cancel);\n",
              "  cancel.textContent = 'Cancel upload';\n",
              "  const cancelPromise = new Promise((resolve) => {\n",
              "    cancel.onclick = () => {\n",
              "      resolve(null);\n",
              "    };\n",
              "  });\n",
              "\n",
              "  // Wait for the user to pick the files.\n",
              "  const files = yield {\n",
              "    promise: Promise.race([pickedPromise, cancelPromise]),\n",
              "    response: {\n",
              "      action: 'starting',\n",
              "    }\n",
              "  };\n",
              "\n",
              "  cancel.remove();\n",
              "\n",
              "  // Disable the input element since further picks are not allowed.\n",
              "  inputElement.disabled = true;\n",
              "\n",
              "  if (!files) {\n",
              "    return {\n",
              "      response: {\n",
              "        action: 'complete',\n",
              "      }\n",
              "    };\n",
              "  }\n",
              "\n",
              "  for (const file of files) {\n",
              "    const li = document.createElement('li');\n",
              "    li.append(span(file.name, {fontWeight: 'bold'}));\n",
              "    li.append(span(\n",
              "        `(${file.type || 'n/a'}) - ${file.size} bytes, ` +\n",
              "        `last modified: ${\n",
              "            file.lastModifiedDate ? file.lastModifiedDate.toLocaleDateString() :\n",
              "                                    'n/a'} - `));\n",
              "    const percent = span('0% done');\n",
              "    li.appendChild(percent);\n",
              "\n",
              "    outputElement.appendChild(li);\n",
              "\n",
              "    const fileDataPromise = new Promise((resolve) => {\n",
              "      const reader = new FileReader();\n",
              "      reader.onload = (e) => {\n",
              "        resolve(e.target.result);\n",
              "      };\n",
              "      reader.readAsArrayBuffer(file);\n",
              "    });\n",
              "    // Wait for the data to be ready.\n",
              "    let fileData = yield {\n",
              "      promise: fileDataPromise,\n",
              "      response: {\n",
              "        action: 'continue',\n",
              "      }\n",
              "    };\n",
              "\n",
              "    // Use a chunked sending to avoid message size limits. See b/62115660.\n",
              "    let position = 0;\n",
              "    do {\n",
              "      const length = Math.min(fileData.byteLength - position, MAX_PAYLOAD_SIZE);\n",
              "      const chunk = new Uint8Array(fileData, position, length);\n",
              "      position += length;\n",
              "\n",
              "      const base64 = btoa(String.fromCharCode.apply(null, chunk));\n",
              "      yield {\n",
              "        response: {\n",
              "          action: 'append',\n",
              "          file: file.name,\n",
              "          data: base64,\n",
              "        },\n",
              "      };\n",
              "\n",
              "      let percentDone = fileData.byteLength === 0 ?\n",
              "          100 :\n",
              "          Math.round((position / fileData.byteLength) * 100);\n",
              "      percent.textContent = `${percentDone}% done`;\n",
              "\n",
              "    } while (position < fileData.byteLength);\n",
              "  }\n",
              "\n",
              "  // All done.\n",
              "  yield {\n",
              "    response: {\n",
              "      action: 'complete',\n",
              "    }\n",
              "  };\n",
              "}\n",
              "\n",
              "scope.google = scope.google || {};\n",
              "scope.google.colab = scope.google.colab || {};\n",
              "scope.google.colab._files = {\n",
              "  _uploadFiles,\n",
              "  _uploadFilesContinue,\n",
              "};\n",
              "})(self);\n",
              "</script> "
            ]
          },
          "metadata": {}
        },
        {
          "output_type": "stream",
          "name": "stdout",
          "text": [
            "Saving nba_logreg.csv to nba_logreg (2).csv\n"
          ]
        }
      ],
      "source": [
        "# predict if rookie NBA will be in the NBA for more than 5 years\n",
        "from google.colab import files\n",
        "file = files.upload()"
      ]
    },
    {
      "cell_type": "markdown",
      "metadata": {
        "id": "mO-FSmz3DTAj"
      },
      "source": [
        "#2. Read the file into a pandas data frame:\n",
        "Split your data to:\n",
        "\n",
        "X: the feature matrix\n",
        "\n",
        "y: the label vector"
      ]
    },
    {
      "cell_type": "code",
      "execution_count": null,
      "metadata": {
        "id": "0-ydbL4lDXIa"
      },
      "outputs": [],
      "source": [
        "\n",
        "dataset_path ='nba_logreg.csv'\n",
        "\n",
        "data = pd.read_csv(dataset_path)\n",
        "\n",
        "target_column = 'TARGET_5Yrs'\n",
        "names_column = 'Name'\n",
        "\n",
        "X = data.drop(columns=[names_column,target_column])\n",
        "y = data[target_column]\n",
        "z = data[names_column]"
      ]
    },
    {
      "cell_type": "markdown",
      "metadata": {
        "id": "i0pX_Z0sJ5XB"
      },
      "source": [
        "#3. A. create and print a plot that demonstartes the frequency of each class of the label variable (Y). In addition, print the count of each of the classes  of the label variable (Y)."
      ]
    },
    {
      "cell_type": "code",
      "execution_count": null,
      "metadata": {
        "colab": {
          "base_uri": "https://localhost:8080/",
          "height": 633
        },
        "id": "KUXEeWIjKf_V",
        "outputId": "18761aa2-5033-4571-9c4e-933653c9645e"
      },
      "outputs": [
        {
          "output_type": "display_data",
          "data": {
            "text/plain": [
              "<Figure size 800x600 with 1 Axes>"
            ],
            "image/png": "[encoded data removed]"
          },
          "metadata": {}
        },
        {
          "output_type": "stream",
          "name": "stdout",
          "text": [
            "Class Counts:\n",
            "1.0    831\n",
            "0.0    509\n",
            "Name: TARGET_5Yrs, dtype: int64\n"
          ]
        }
      ],
      "source": [
        "\n",
        "plt.figure(figsize=(8, 6))\n",
        "y.value_counts().plot(kind='bar')\n",
        "plt.title('Frequency of Each Class in Label Variable')\n",
        "plt.xlabel('Class')\n",
        "plt.ylabel('Frequency')\n",
        "plt.xticks(rotation=0)\n",
        "plt.show()\n",
        "\n",
        "\n",
        "class_counts = data[target_column].value_counts()\n",
        "print(\"Class Counts:\")\n",
        "print(class_counts)"
      ]
    },
    {
      "cell_type": "markdown",
      "metadata": {
        "id": "WW5CDFSOLCFd"
      },
      "source": [
        "#B. Verbally explain if balancing the label is required, why? (in 2-3 lines)\n"
      ]
    },
    {
      "cell_type": "markdown",
      "metadata": {
        "id": "2B1KVYl3LYTM"
      },
      "source": [
        "#Your answer here:\n",
        "balancing is required when there is a signifacent inbalance between the classes, if the classes are widely inbalanced the algorithem can perform poorly towards the minority class. in my case the inbalance isnt so severe hence no need for balancing.\n",
        "\n"
      ]
    },
    {
      "cell_type": "markdown",
      "metadata": {
        "id": "46Pr9C1CLnlL"
      },
      "source": [
        "#C. If balancing is required, choose one over-sampling and one under-sampling balancing methods and perform them on your data.\n",
        "\n",
        "Verbally explain the logic behind the chosen balancing metohd, how does it work?"
      ]
    },
    {
      "cell_type": "code",
      "execution_count": null,
      "metadata": {
        "id": "WTtWHavyMF5S"
      },
      "outputs": [],
      "source": [
        "\n"
      ]
    },
    {
      "cell_type": "markdown",
      "metadata": {
        "id": "lc4fQg-tMVjJ"
      },
      "source": [
        "#Your answer here:\n",
        "\n"
      ]
    },
    {
      "cell_type": "markdown",
      "metadata": {
        "id": "ROtq2k5CMeFK"
      },
      "source": [
        "#If balancing is not required, briefly explain why and choose one under-sampling method and one over-sampling method for balancing and perform them on your data.\n",
        "Additionally, verbally explain the logic behind the chosen balancing metohds, how does it work? (in 3 lines) answer:\n",
        "I explained above why balancing is not required, as for the logic i chose the majority stradegy so that the majority class will decrease to match the size of the minority class for complete balance and for the over sampling i chose 0.8 strategy so that the minority class will increase and be 80% of the majority class for a better balance between the classes.\n"
      ]
    },
    {
      "cell_type": "code",
      "execution_count": null,
      "metadata": {
        "colab": {
          "base_uri": "https://localhost:8080/"
        },
        "id": "mxOZYlYyLsON",
        "outputId": "0f515902-5d97-48ba-e0a6-4a93312858a6"
      },
      "outputs": [
        {
          "output_type": "stream",
          "name": "stdout",
          "text": [
            "Class distribution before sampling:\n",
            "1.0    831\n",
            "0.0    509\n",
            "Name: TARGET_5Yrs, dtype: int64\n",
            "\n",
            "Class distribution after under-sampling:\n",
            "0.0    509\n",
            "1.0    509\n",
            "Name: TARGET_5Yrs, dtype: int64\n",
            "\n",
            "Class distribution after over-sampling:\n",
            "1.0    831\n",
            "0.0    664\n",
            "Name: TARGET_5Yrs, dtype: int64\n"
          ]
        }
      ],
      "source": [
        "\n",
        "\n",
        "print(\"Class distribution before sampling:\")\n",
        "print(y.value_counts())\n",
        "\n",
        "\n",
        "chosen_under_sampler = RandomUnderSampler(sampling_strategy='majority')\n",
        "chosen_over_sampler = RandomOverSampler(sampling_strategy=0.8)\n",
        "\n",
        "\n",
        "X_resampled_under, y_resampled_under = chosen_under_sampler.fit_resample(X, y)\n",
        "X_resampled_over, y_resampled_over = chosen_over_sampler.fit_resample(X, y)\n",
        "\n",
        "\n",
        "print(\"\\nClass distribution after under-sampling:\")\n",
        "print(y_resampled_under.value_counts())\n",
        "\n",
        "print(\"\\nClass distribution after over-sampling:\")\n",
        "print(y_resampled_over.value_counts())"
      ]
    },
    {
      "cell_type": "markdown",
      "metadata": {
        "id": "T5BZb-AnDXnb"
      },
      "source": [
        "#4. Check for missing values:"
      ]
    },
    {
      "cell_type": "code",
      "execution_count": null,
      "metadata": {
        "colab": {
          "base_uri": "https://localhost:8080/"
        },
        "id": "glKyIdt4DcKz",
        "outputId": "8b77d9b9-9763-4f88-cdb5-eb14ca848e22"
      },
      "outputs": [
        {
          "output_type": "stream",
          "name": "stdout",
          "text": [
            "Missing Values:\n",
            "Name            0\n",
            "GP              0\n",
            "MIN             0\n",
            "PTS             0\n",
            "FGM             0\n",
            "FGA             0\n",
            "FG%             0\n",
            "3P Made         0\n",
            "3PA             0\n",
            "3P%            11\n",
            "FTM             0\n",
            "FTA             0\n",
            "FT%             0\n",
            "OREB            0\n",
            "DREB            0\n",
            "REB             0\n",
            "AST             0\n",
            "STL             0\n",
            "BLK             0\n",
            "TOV             0\n",
            "TARGET_5Yrs     0\n",
            "dtype: int64\n"
          ]
        }
      ],
      "source": [
        "\n",
        "missing_values = data.isnull().sum()\n",
        "print(\"Missing Values:\")\n",
        "print(missing_values)\n",
        "#there are no missing data the 0 in 3p% is data.\n"
      ]
    },
    {
      "cell_type": "markdown",
      "metadata": {
        "id": "tYqhzgE8Dkdj"
      },
      "source": [
        "If there are no missing values in your data, follow the next steps:\n",
        "1. uncomment the following function by:\n",
        "\n",
        "  a. selecting all the code in the chunk\n",
        "\n",
        "  b. pressing \"ctrl\"+\"/\" to uncomment all lines\n",
        "2. assign the missing values-containing data to a new variable name (see example below).\n",
        "\n",
        "Say my dataset features is named X.\n",
        "\n",
        "Than the use of the function would be:\n",
        "\n",
        "\n",
        "```\n",
        "X_missing=add_missing_values(X)\n",
        " ```\n",
        "\n",
        "\n",
        "\n",
        "\n"
      ]
    },
    {
      "cell_type": "code",
      "execution_count": null,
      "metadata": {
        "id": "l8vxkVPpDip8"
      },
      "outputs": [],
      "source": [
        "def add_missing_values(X_full):\n",
        "    import numpy as np\n",
        "    Col_names=X_full.columns\n",
        "    X_full=X_full.to_numpy()\n",
        "    rng = np.random.RandomState(4)\n",
        "    n_samples, n_features = X_full.shape\n",
        "\n",
        "    # Add missing values in 75% of the lines\n",
        "    missing_rate = 0.75\n",
        "    n_missing_samples = int(n_samples * missing_rate)\n",
        "\n",
        "    missing_samples = np.zeros(n_samples, dtype=bool)\n",
        "    missing_samples[:n_missing_samples] = True\n",
        "\n",
        "    rng.shuffle(missing_samples)\n",
        "    missing_features = rng.randint(0, n_features, n_missing_samples)\n",
        "    X_missing = X_full.copy()\n",
        "    X_missing[missing_samples, missing_features] = np.nan\n",
        "    X_missing=pd.DataFrame(X_missing)\n",
        "    X_missing.columns=Col_names\n",
        "    return X_missing\n",
        "# X_missing\n"
      ]
    },
    {
      "cell_type": "code",
      "execution_count": null,
      "metadata": {
        "colab": {
          "base_uri": "https://localhost:8080/"
        },
        "id": "vZLGvx7YIUCc",
        "outputId": "7a031852-4497-4317-f853-490e8ea42028"
      },
      "outputs": [
        {
          "output_type": "stream",
          "name": "stdout",
          "text": [
            "Missing Values:\n",
            "        GP   MIN  PTS  FGM  FGA   FG%  3P Made  3PA   3P%  FTM  FTA   FT%  \\\n",
            "0     36.0  27.4  7.4  2.6  7.6  34.7      0.5  2.1  25.0  1.6  2.3  69.9   \n",
            "1     35.0  26.9  7.2  2.0  6.7  29.6      NaN  2.8  23.5  2.6  3.4  76.5   \n",
            "2     74.0  15.3  5.2  2.0  4.7  42.2      0.4  1.7  24.4  0.9  1.3   NaN   \n",
            "3     58.0  11.6  NaN  2.3  5.5  42.6      0.1  0.5  22.6  0.9  1.3  68.9   \n",
            "4     48.0  11.5  4.5  1.6  3.0  52.4      0.0  0.1   0.0  1.3  1.9  67.4   \n",
            "...    ...   ...  ...  ...  ...   ...      ...  ...   ...  ...  ...   ...   \n",
            "1335  80.0  15.8  4.3  1.6  3.6  43.3      0.0  0.2  14.3  1.2  1.5  79.2   \n",
            "1336  68.0  12.6  NaN  1.5  4.1  35.8      0.1  0.7  16.7  0.8  1.0  79.4   \n",
            "1337  43.0  12.1  5.4  2.2  3.9   NaN      0.0  0.0   0.0  1.0  1.6  64.3   \n",
            "1338  52.0  12.0  4.5  1.7  3.8  43.9      0.0  0.2  10.0  1.2  1.8  62.5   \n",
            "1339  47.0  11.7  4.4  1.6  4.4  36.9      0.4  1.3  33.3  0.7  1.0  67.3   \n",
            "\n",
            "      OREB  DREB  REB  AST  STL  BLK  TOV  \n",
            "0      0.7   3.4  NaN  1.9  0.4  0.4  1.3  \n",
            "1      0.5   2.0  2.4  3.7  1.1  0.5  1.6  \n",
            "2      0.5   1.7  2.2  1.0  0.5  0.3  1.0  \n",
            "3      1.0   0.9  1.9  0.8  0.6  0.1  1.0  \n",
            "4      NaN   1.5  2.5  0.3  0.3  0.4  0.8  \n",
            "...    ...   ...  ...  ...  ...  ...  ...  \n",
            "1335   0.4   0.8  1.2  2.5  NaN  0.2  0.8  \n",
            "1336   0.4   1.1  1.5  2.3  0.8  0.0  1.3  \n",
            "1337   1.5   2.3  3.8  0.3  0.3  0.4  0.9  \n",
            "1338   0.2   0.4  NaN  2.2  0.4  0.1  0.8  \n",
            "1339   0.2   0.7  0.9  1.4  0.7  0.1  0.9  \n",
            "\n",
            "[1340 rows x 19 columns]\n"
          ]
        }
      ],
      "source": [
        "\n",
        "X_missing = add_missing_values(X)\n",
        "print(\"Missing Values:\")\n",
        "print(X_missing)\n",
        "\n"
      ]
    },
    {
      "cell_type": "markdown",
      "metadata": {
        "id": "sNhwID7JGHQz"
      },
      "source": [
        "\n",
        "#5. Impute the missing values using three different methods and assign the imputed output datasets into variables:"
      ]
    },
    {
      "cell_type": "code",
      "execution_count": null,
      "metadata": {
        "colab": {
          "base_uri": "https://localhost:8080/"
        },
        "id": "nQDXRX4TIotK",
        "outputId": "a1aba053-8bac-4921-9eb9-862746430f43"
      },
      "outputs": [
        {
          "output_type": "stream",
          "name": "stdout",
          "text": [
            "Mean Imputed Values:\n",
            "     GP   MIN       PTS  FGM  FGA   FG%   3P Made  3PA   3P%  FTM  FTA  \\\n",
            "0  36.0  27.4  7.400000  2.6  7.6  34.7  0.500000  2.1  25.0  1.6  2.3   \n",
            "1  35.0  26.9  7.200000  2.0  6.7  29.6  0.248137  2.8  23.5  2.6  3.4   \n",
            "2  74.0  15.3  5.200000  2.0  4.7  42.2  0.400000  1.7  24.4  0.9  1.3   \n",
            "3  58.0  11.6  6.790532  2.3  5.5  42.6  0.100000  0.5  22.6  0.9  1.3   \n",
            "4  48.0  11.5  4.500000  1.6  3.0  52.4  0.000000  0.1   0.0  1.3  1.9   \n",
            "\n",
            "         FT%      OREB  DREB       REB  AST  STL  BLK  TOV  \n",
            "0  69.900000  0.700000   3.4  3.027132  1.9  0.4  0.4  1.3  \n",
            "1  76.500000  0.500000   2.0  2.400000  3.7  1.1  0.5  1.6  \n",
            "2  70.287731  0.500000   1.7  2.200000  1.0  0.5  0.3  1.0  \n",
            "3  68.900000  1.000000   0.9  1.900000  0.8  0.6  0.1  1.0  \n",
            "4  67.400000  1.009246   1.5  2.500000  0.3  0.3  0.4  0.8  \n",
            "\n",
            "Median Imputed Values:\n",
            "     GP   MIN  PTS  FGM  FGA   FG%  3P Made  3PA   3P%  FTM  FTA   FT%  OREB  \\\n",
            "0  36.0  27.4  7.4  2.6  7.6  34.7      0.5  2.1  25.0  1.6  2.3  69.9   0.7   \n",
            "1  35.0  26.9  7.2  2.0  6.7  29.6      0.1  2.8  23.5  2.6  3.4  76.5   0.5   \n",
            "2  74.0  15.3  5.2  2.0  4.7  42.2      0.4  1.7  24.4  0.9  1.3  71.3   0.5   \n",
            "3  58.0  11.6  5.6  2.3  5.5  42.6      0.1  0.5  22.6  0.9  1.3  68.9   1.0   \n",
            "4  48.0  11.5  4.5  1.6  3.0  52.4      0.0  0.1   0.0  1.3  1.9  67.4   0.8   \n",
            "\n",
            "   DREB  REB  AST  STL  BLK  TOV  \n",
            "0   3.4  2.5  1.9  0.4  0.4  1.3  \n",
            "1   2.0  2.4  3.7  1.1  0.5  1.6  \n",
            "2   1.7  2.2  1.0  0.5  0.3  1.0  \n",
            "3   0.9  1.9  0.8  0.6  0.1  1.0  \n",
            "4   1.5  2.5  0.3  0.3  0.4  0.8  \n",
            "\n",
            "KNN Imputed Values:\n",
            "     GP   MIN   PTS  FGM  FGA   FG%  3P Made  3PA   3P%  FTM  FTA    FT%  \\\n",
            "0  36.0  27.4  7.40  2.6  7.6  34.7     0.50  2.1  25.0  1.6  2.3  69.90   \n",
            "1  35.0  26.9  7.20  2.0  6.7  29.6     0.42  2.8  23.5  2.6  3.4  76.50   \n",
            "2  74.0  15.3  5.20  2.0  4.7  42.2     0.40  1.7  24.4  0.9  1.3  76.16   \n",
            "3  58.0  11.6  4.06  2.3  5.5  42.6     0.10  0.5  22.6  0.9  1.3  68.90   \n",
            "4  48.0  11.5  4.50  1.6  3.0  52.4     0.00  0.1   0.0  1.3  1.9  67.40   \n",
            "\n",
            "   OREB  DREB  REB  AST  STL  BLK  TOV  \n",
            "0  0.70   3.4  3.0  1.9  0.4  0.4  1.3  \n",
            "1  0.50   2.0  2.4  3.7  1.1  0.5  1.6  \n",
            "2  0.50   1.7  2.2  1.0  0.5  0.3  1.0  \n",
            "3  1.00   0.9  1.9  0.8  0.6  0.1  1.0  \n",
            "4  1.02   1.5  2.5  0.3  0.3  0.4  0.8  \n"
          ]
        }
      ],
      "source": [
        "\n",
        "\n",
        "mean_imputer = SimpleImputer(strategy='mean')\n",
        "X_mean_imputed = mean_imputer.fit_transform(X_missing)\n",
        "\n",
        "\n",
        "median_imputer = SimpleImputer(strategy='median')\n",
        "X_median_imputed = median_imputer.fit_transform(X_missing)\n",
        "\n",
        "\n",
        "knn_imputer = KNNImputer(n_neighbors=5)\n",
        "X_knn_imputed = knn_imputer.fit_transform(X_missing)\n",
        "\n",
        "# Convert the imputed arrays back to DataFrames\n",
        "X_mean_imputed_df = pd.DataFrame(X_mean_imputed,columns= X.columns)\n",
        "X_median_imputed_df = pd.DataFrame(X_median_imputed, columns= X.columns)\n",
        "X_knn_imputed_df = pd.DataFrame(X_knn_imputed, columns= X.columns)\n",
        "\n",
        "\n",
        "print(\"Mean Imputed Values:\")\n",
        "print(X_mean_imputed_df.head())\n",
        "\n",
        "print(\"\\nMedian Imputed Values:\")\n",
        "print(X_median_imputed_df.head())\n",
        "\n",
        "print(\"\\nKNN Imputed Values:\")\n",
        "print(X_knn_imputed_df.head())\n"
      ]
    },
    {
      "cell_type": "markdown",
      "metadata": {
        "id": "GdbJRpF8IsY8"
      },
      "source": [
        "#6. Preprocessing (for both imputed datasets):\n",
        "standardize or normalize the data\n"
      ]
    },
    {
      "cell_type": "code",
      "execution_count": null,
      "metadata": {
        "id": "wzahU-AlJV3c"
      },
      "outputs": [],
      "source": [
        "\n",
        "\n",
        "scaler_mean = StandardScaler()\n",
        "X_mean_imputed_scaled = scaler_mean.fit_transform(X_mean_imputed_df)\n",
        "\n",
        "scaler_median = StandardScaler()\n",
        "X_median_imputed_scaled = scaler_median.fit_transform(X_median_imputed_df)\n",
        "\n",
        "scaler_knn = StandardScaler()\n",
        "X_knn_imputed_scaled = scaler_knn.fit_transform(X_knn_imputed_df)"
      ]
    },
    {
      "cell_type": "markdown",
      "metadata": {
        "id": "pg_K-4_gNjbb"
      },
      "source": [
        "#7. Train test split:"
      ]
    },
    {
      "cell_type": "code",
      "execution_count": null,
      "metadata": {
        "id": "9Uobk5J_Nl5j"
      },
      "outputs": [],
      "source": [
        "\n",
        "\n",
        "X_train_mean, X_test_mean, y_train_mean, y_test_mean = train_test_split(\n",
        "    X_mean_imputed_scaled, y, test_size=0.2, random_state=42\n",
        ")\n",
        "\n",
        "X_train_median, X_test_median, y_train_median, y_test_median = train_test_split(\n",
        "    X_median_imputed_scaled, y, test_size=0.2, random_state=42\n",
        ")\n",
        "\n",
        "X_train_knn, X_test_knn, y_train_knn, y_test_knn = train_test_split(\n",
        "    X_knn_imputed_scaled, y, test_size=0.2, random_state=42\n",
        ")\n"
      ]
    },
    {
      "cell_type": "markdown",
      "metadata": {
        "id": "p32CMu4SNEQb"
      },
      "source": [
        "#8. Training models (for both imputed datasets):\n",
        "**a.** choose **three** classification algorithms, one must be either random forest or XGBoost or catboost,another must be an algorithm that **wasn't** discussed in class and apply the algorithms on the train set.  \n",
        "\n",
        "**b.** apply hyperparameter tuning on  two out of three algorithms using gridsearchCV function.\n",
        "\n",
        "Apply a pipeline to the learning process of one of the algorithms, pipeing must include:\n",
        "\n",
        "\n",
        "*   imputation\n",
        "*   standardization or normalization\n",
        "*   chossing the learning algorithm and a dictionary for the hyperparameter search.\n",
        "\n",
        "##In this part you should create 9 learning models: 3 imputed dataframes * 3 algorithms\n",
        "\n",
        "**c.** print the best hyperparameters for both models.\n",
        "reminder, if the tuned model is named \"grid\" than to get the best hyperparameter combination use the following function:\n",
        "\n",
        "\n",
        "```\n",
        "grid.best_params_\n",
        "```\n",
        "\n",
        "\n",
        "**d.** Veraverbally explain: what is the role of the chosen hyperparmeters in the learning algorithms? Explain how the unlearned algorithm that you chose works. (in 3-4 lines)\n"
      ]
    },
    {
      "cell_type": "code",
      "execution_count": null,
      "metadata": {
        "colab": {
          "base_uri": "https://localhost:8080/"
        },
        "id": "WLveUiA9Y7Iz",
        "outputId": "d6d51e68-5e3e-4c59-d909-eec3b3446529"
      },
      "outputs": [
        {
          "output_type": "stream",
          "name": "stdout",
          "text": [
            "RandomForest Best Hyperparameters:\n",
            "{'max_depth': 10, 'n_estimators': 200}\n",
            "GradientBoosting Best Hyperparameters:\n",
            "{'learning_rate': 0.1, 'n_estimators': 50}\n"
          ]
        }
      ],
      "source": [
        "\n",
        "\n",
        "random_forest_classifier = RandomForestClassifier(random_state=42)\n",
        "knn_classifier = KNeighborsClassifier()\n",
        "gradient_boosting_classifier = GradientBoostingClassifier(random_state=42)\n",
        "\n",
        "# Train the classifiers on the training data\n",
        "random_forest_classifier.fit(X_train_mean, y_train_mean)\n",
        "random_forest_classifier.fit(X_train_median, y_train_median)\n",
        "random_forest_classifier.fit(X_train_knn, y_train_knn)\n",
        "\n",
        "knn_classifier.fit(X_train_mean, y_train_mean)\n",
        "knn_classifier.fit(X_train_median, y_train_median)\n",
        "knn_classifier.fit(X_train_knn, y_train_knn)\n",
        "\n",
        "\n",
        "gradient_boosting_classifier.fit(X_train_mean, y_train_mean)\n",
        "gradient_boosting_classifier.fit(X_train_median, y_train_median)\n",
        "gradient_boosting_classifier.fit(X_train_knn, y_train_knn)\n",
        "\n",
        "\n",
        "# Hyperparameter tuning using GridSearchCV for RandomForest and GradientBoosting\n",
        "param_grid_rf = {'n_estimators': [50, 100, 200], 'max_depth': [None, 10, 20]}\n",
        "grid_search_rf = GridSearchCV(random_forest_classifier, param_grid_rf, cv=5)\n",
        "grid_search_rf.fit(X_train_mean, y_train_mean)\n",
        "grid_search_rf.fit(X_train_median, y_train_median)\n",
        "grid_search_rf.fit(X_train_knn, y_train_knn)\n",
        "\n",
        "param_grid_gb = {'n_estimators': [50, 100, 200], 'learning_rate': [0.1, 0.01, 0.001]}\n",
        "grid_search_gb = GridSearchCV(gradient_boosting_classifier, param_grid_gb, cv=5)\n",
        "grid_search_gb.fit(X_train_mean, y_train_mean)\n",
        "grid_search_gb.fit(X_train_median, y_train_median)\n",
        "grid_search_gb.fit(X_train_knn, y_train_knn)\n",
        "\n",
        "# Creating a pipeline for k-Nearest Neighbors\n",
        "knn_pipeline = Pipeline([\n",
        "    ('imputer', SimpleImputer()),\n",
        "    ('scaler', MinMaxScaler()),\n",
        "    ('knn', KNeighborsClassifier())\n",
        "])\n",
        "\n",
        "print(\"RandomForest Best Hyperparameters:\")\n",
        "print(grid_search_rf.best_params_)\n",
        "\n",
        "\n",
        "print(\"GradientBoosting Best Hyperparameters:\")\n",
        "print(grid_search_gb.best_params_)"
      ]
    },
    {
      "cell_type": "markdown",
      "metadata": {
        "id": "ySInCwHzY6kG"
      },
      "source": [
        "#Your answer here:\n",
        "\n",
        "the role of hyperparmeters are to influence how the algorithm learns and generalizes from the data.  in RandomForest and GradientBoosting, the n_estimators hyperparameter defines the number of decision trees to be created. max_depth controls the depth of these trees.\n",
        "learning_rate controls the step size at which the algorithm adjusts its predictions based on the error from the previous models.\n",
        "\n",
        "unlearned algorithm - Gradient Boosting works by iteratively training weak models, each focused on correcting the errors of the previous model, using gradients of the loss function to guide adjustments, and combining their predictions with scaled weights to form a strong predictive model."
      ]
    },
    {
      "cell_type": "markdown",
      "metadata": {
        "id": "WXR9AHo9Y3gJ"
      },
      "source": [
        "#9. A. Predict the y variable on both the train set and the test set (for both imputed datasets and for both algorithms - 18 predictions in total):\n",
        "3 imputed datasets * 3 classification algorithms * (train+test)\n",
        "\n",
        "and create and print a summrizing table of the accuracy, recall, precision and f1-score of each prediction.\n",
        "\n"
      ]
    },
    {
      "cell_type": "code",
      "execution_count": null,
      "metadata": {
        "colab": {
          "base_uri": "https://localhost:8080/"
        },
        "id": "OGXWpYFLZyHh",
        "outputId": "abb6613b-0542-40cf-b000-632da4fb6fdd"
      },
      "outputs": [
        {
          "output_type": "stream",
          "name": "stdout",
          "text": [
            "   imputed_dataset                                   classifier    set  \\\n",
            "0             mean      RandomForestClassifier(random_state=42)  Train   \n",
            "1             mean      RandomForestClassifier(random_state=42)   Test   \n",
            "2             mean                       KNeighborsClassifier()  Train   \n",
            "3             mean                       KNeighborsClassifier()   Test   \n",
            "4             mean  GradientBoostingClassifier(random_state=42)  Train   \n",
            "5             mean  GradientBoostingClassifier(random_state=42)   Test   \n",
            "6           median      RandomForestClassifier(random_state=42)  Train   \n",
            "7           median      RandomForestClassifier(random_state=42)   Test   \n",
            "8           median                       KNeighborsClassifier()  Train   \n",
            "9           median                       KNeighborsClassifier()   Test   \n",
            "10          median  GradientBoostingClassifier(random_state=42)  Train   \n",
            "11          median  GradientBoostingClassifier(random_state=42)   Test   \n",
            "12             knn      RandomForestClassifier(random_state=42)  Train   \n",
            "13             knn      RandomForestClassifier(random_state=42)   Test   \n",
            "14             knn                       KNeighborsClassifier()  Train   \n",
            "15             knn                       KNeighborsClassifier()   Test   \n",
            "16             knn  GradientBoostingClassifier(random_state=42)  Train   \n",
            "17             knn  GradientBoostingClassifier(random_state=42)   Test   \n",
            "\n",
            "    accuracy    recall  precision  f1_score  \n",
            "0   0.998134  0.998489   0.998489  0.998489  \n",
            "1   0.705224  0.828402   0.736842  0.779944  \n",
            "2   0.765858  0.848943   0.788219  0.817455  \n",
            "3   0.682836  0.781065   0.733333  0.756447  \n",
            "4   0.870336  0.948640   0.856753  0.900358  \n",
            "5   0.723881  0.834320   0.754011  0.792135  \n",
            "6   0.998134  1.000000   0.996988  0.998492  \n",
            "7   0.731343  0.840237   0.759358  0.797753  \n",
            "8   0.763993  0.841390   0.790071  0.814923  \n",
            "9   0.708955  0.828402   0.740741  0.782123  \n",
            "10  0.856343  0.938066   0.846049  0.889685  \n",
            "11  0.731343  0.828402   0.765027  0.795455  \n",
            "12  0.996269  0.998489   0.995482  0.996983  \n",
            "13  0.712687  0.834320   0.742105  0.785515  \n",
            "14  0.763993  0.838369   0.791726  0.814380  \n",
            "15  0.679104  0.804734   0.719577  0.759777  \n",
            "16  0.866604  0.938066   0.858921  0.896751  \n",
            "17  0.716418  0.834320   0.746032  0.787709  \n"
          ]
        }
      ],
      "source": [
        "\n",
        "\n",
        "imputed_datasets = ['mean', 'median', 'knn']\n",
        "classifiers = [random_forest_classifier, knn_classifier, gradient_boosting_classifier]\n",
        "\n",
        "results = {'imputed_dataset': [], 'classifier': [], 'set': [], 'accuracy': [], 'recall': [], 'precision': [], 'f1_score': []}\n",
        "\n",
        "\n",
        "for imputed_data in imputed_datasets:\n",
        "    for clf in classifiers:\n",
        "        if imputed_data == 'mean':\n",
        "            X_train = X_train_mean\n",
        "            X_test = X_test_mean\n",
        "            y_train = y_train_mean\n",
        "            y_test = y_test_mean\n",
        "        elif imputed_data == 'median':\n",
        "            X_train = X_train_median\n",
        "            X_test = X_test_median\n",
        "            y_train = y_train_median\n",
        "            y_test = y_test_median\n",
        "        elif imputed_data == 'knn':\n",
        "            X_train = X_train_knn\n",
        "            X_test = X_test_knn\n",
        "            y_train = y_train_knn\n",
        "            y_test = y_test_knn\n",
        "\n",
        "        # Fit the classifier on the train data\n",
        "        clf.fit(X_train, y_train)\n",
        "\n",
        "        # Predict on train and test data\n",
        "        y_pred_train = clf.predict(X_train)\n",
        "        y_pred_test = clf.predict(X_test)\n",
        "\n",
        "        # Calculate evaluation metrics for train and test sets\n",
        "        accuracy_train = accuracy_score(y_train, y_pred_train)\n",
        "        recall_train = recall_score(y_train, y_pred_train)\n",
        "        precision_train = precision_score(y_train, y_pred_train)\n",
        "        f1_train = f1_score(y_train, y_pred_train)\n",
        "\n",
        "        accuracy_test = accuracy_score(y_test, y_pred_test)\n",
        "        recall_test = recall_score(y_test, y_pred_test)\n",
        "        precision_test = precision_score(y_test, y_pred_test)\n",
        "        f1_test = f1_score(y_test, y_pred_test)\n",
        "\n",
        "        # Store the results in the dictionary\n",
        "        results['imputed_dataset'].append(imputed_data)\n",
        "        results['classifier'].append(str(clf))\n",
        "        results['set'].append('Train')\n",
        "        results['accuracy'].append(accuracy_train)\n",
        "        results['recall'].append(recall_train)\n",
        "        results['precision'].append(precision_train)\n",
        "        results['f1_score'].append(f1_train)\n",
        "\n",
        "        results['imputed_dataset'].append(imputed_data)\n",
        "        results['classifier'].append(str(clf))\n",
        "        results['set'].append('Test')\n",
        "        results['accuracy'].append(accuracy_test)\n",
        "        results['recall'].append(recall_test)\n",
        "        results['precision'].append(precision_test)\n",
        "        results['f1_score'].append(f1_test)\n",
        "\n",
        "\n",
        "summary_table = pd.DataFrame(results)\n",
        "\n",
        "\n",
        "print(summary_table)"
      ]
    },
    {
      "cell_type": "markdown",
      "metadata": {
        "id": "0q70fd0FZzqS"
      },
      "source": [
        "#B. Verbally explain which model resulted with the best outcome with consideration to over-fitting, under-fitting and proper-fitting."
      ]
    },
    {
      "cell_type": "markdown",
      "metadata": {
        "id": "N8EIHUuGa5Cu"
      },
      "source": [
        "#Your answer here:\n",
        "the data shows that gradient boosting and and random forest perform the best, perhaps one is slightly better than the other but they both suffer from over fitting since the training accuracy is significantly higher than the test. the KNN does not perform as well as the other 2 but exhibits relatively better performance in terms of avoiding overfitting, as the gap between training and testing accuracy is smaller.\n"
      ]
    },
    {
      "cell_type": "markdown",
      "metadata": {
        "id": "QjsR7CqOaRnC"
      },
      "source": [
        "#C. Print the classification_report of both the trainset and the test set using the best model.\n"
      ]
    },
    {
      "cell_type": "code",
      "execution_count": null,
      "metadata": {
        "colab": {
          "base_uri": "https://localhost:8080/"
        },
        "id": "lqPM-0PVa1Ab",
        "outputId": "a672de8f-7962-4d21-829a-01861bbc112f"
      },
      "outputs": [
        {
          "output_type": "stream",
          "name": "stdout",
          "text": [
            "Classification Report for Training Set:\n",
            "              precision    recall  f1-score   support\n",
            "\n",
            "         0.0       1.00      1.00      1.00       410\n",
            "         1.0       1.00      1.00      1.00       662\n",
            "\n",
            "    accuracy                           1.00      1072\n",
            "   macro avg       1.00      1.00      1.00      1072\n",
            "weighted avg       1.00      1.00      1.00      1072\n",
            "\n",
            "\n",
            "Classification Report for Testing Set:\n",
            "              precision    recall  f1-score   support\n",
            "\n",
            "         0.0       0.66      0.55      0.60        99\n",
            "         1.0       0.76      0.83      0.79       169\n",
            "\n",
            "    accuracy                           0.73       268\n",
            "   macro avg       0.71      0.69      0.70       268\n",
            "weighted avg       0.72      0.73      0.72       268\n",
            "\n"
          ]
        }
      ],
      "source": [
        "\n",
        "\n",
        "best_model = RandomForestClassifier()\n",
        "\n",
        "\n",
        "best_model.fit(X_train_mean, y_train_mean)\n",
        "\n",
        "\n",
        "y_pred_train = best_model.predict(X_train_mean)\n",
        "y_pred_test = best_model.predict(X_test_mean)\n",
        "\n",
        "\n",
        "print(\"Classification Report for Training Set:\")\n",
        "print(classification_report(y_train_mean, y_pred_train))\n",
        "\n",
        "\n",
        "print(\"\\nClassification Report for Testing Set:\")\n",
        "print(classification_report(y_test_mean, y_pred_test))"
      ]
    },
    {
      "cell_type": "markdown",
      "metadata": {
        "id": "X0JUvoRmObuf"
      },
      "source": [
        "#D. Verbally explain 2 more quality measures of your choice. explain: is the score good? what is the meaning of each measure?"
      ]
    },
    {
      "cell_type": "markdown",
      "metadata": {
        "id": "oyUVqCG6a5mq"
      },
      "source": [
        "#Your answer here:\n",
        "Precision - measures the accuracy of positive predictions made by the model, it focuses on the portion of the predicted positive instances that are actually correct.\n",
        "Recall - measures the ability of the model to correctly identify all positive instances in the dataset, it focuses on the portion of actual positive instances that were correctly identified by the model.\n",
        "\n",
        "in the training set the scores were good both 0 and 1 were 100% accurate, in the testing set the scores were not as good.. the prediction for 0 were bad across all metrics but the prediction for 1 was better.\n"
      ]
    },
    {
      "cell_type": "markdown",
      "metadata": {
        "id": "M573muOoa6Kp"
      },
      "source": [
        "#Good Luck!"
      ]
    }
  ],
  "metadata": {
    "colab": {
      "provenance": [],
      "include_colab_link": true
    },
    "kernelspec": {
      "display_name": "Python 3",
      "name": "python3"
    },
    "language_info": {
      "name": "python"
    }
  },
  "nbformat": 4,
  "nbformat_minor": 0
}